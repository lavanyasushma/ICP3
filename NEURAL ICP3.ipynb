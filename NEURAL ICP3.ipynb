{
 "cells": [
  {
   "cell_type": "code",
   "execution_count": 27,
   "id": "dee5dcc6-55a2-488a-b7f6-ce35470f8541",
   "metadata": {},
   "outputs": [
    {
     "name": "stdout",
     "output_type": "stream",
     "text": [
      "   Duration  Pulse  Maxpulse  Calories\n",
      "0        60    110       130     409.1\n",
      "1        60    117       145     479.0\n",
      "2        60    103       135     340.0\n",
      "3        45    109       175     282.4\n",
      "4        45    117       148     406.0\n"
     ]
    }
   ],
   "source": [
    "import pandas as pd\n",
    "from io import StringIO\n",
    "\n",
    "# CSV data as a string\n",
    "csv_data = \"\"\"Duration,Pulse,Maxpulse,Calories\n",
    "60,110,130,409.1\n",
    "60,117,145,479.0\n",
    "60,103,135,340.0\n",
    "45,109,175,282.4\n",
    "45,117,148,406.0\n",
    "60,102,127,300.0\n",
    "60,110,136,374.0\n",
    "45,104,134,253.3\n",
    "30,109,133,195.1\n",
    "60,98,124,269.0\n",
    "60,103,147,329.3\n",
    "60,100,120,250.7\n",
    "60,106,128,345.3\n",
    "60,104,132,379.3\n",
    "60,98,123,275.0\n",
    "60,98,120,215.2\n",
    "60,100,120,300.0\n",
    "45,90,112,\n",
    "60,103,123,323.0\n",
    "45,97,125,243.0\n",
    "60,108,131,364.2\n",
    "45,100,119,282.0\n",
    "60,130,101,300.0\n",
    "45,105,132,246.0\n",
    "60,102,126,334.5\n",
    "60,100,120,250.0\n",
    "60,92,118,241.0\n",
    "60,103,132,\n",
    "60,100,132,280.0\n",
    "60,102,129,380.3\n",
    "60,92,115,243.0\n",
    "45,90,112,180.1\n",
    "60,101,124,299.0\n",
    "60,93,113,223.0\n",
    "60,107,136,361.0\n",
    "60,114,140,415.0\n",
    "60,102,127,300.0\n",
    "60,100,120,300.0\n",
    "60,100,120,300.0\n",
    "45,104,129,266.0\n",
    "45,90,112,180.1\n",
    "60,98,126,286.0\n",
    "60,100,122,329.4\n",
    "60,111,138,400.0\n",
    "60,111,131,397.0\n",
    "60,99,119,273.0\n",
    "60,109,153,387.6\n",
    "45,111,136,300.0\n",
    "45,108,129,298.0\n",
    "60,111,139,397.6\n",
    "60,107,136,380.2\n",
    "80,123,146,643.1\n",
    "60,106,130,263.0\n",
    "60,118,151,486.0\n",
    "30,136,175,238.0\n",
    "60,121,146,450.7\n",
    "60,118,121,413.0\n",
    "45,115,144,305.0\n",
    "20,153,172,226.4\n",
    "45,123,152,321.0\n",
    "210,108,160,1376.0\n",
    "160,110,137,1034.4\n",
    "160,109,135,853.0\n",
    "45,118,141,341.0\n",
    "20,110,130,131.4\n",
    "180,90,130,800.4\n",
    "150,105,135,873.4\n",
    "150,107,130,816.0\n",
    "20,106,136,110.4\n",
    "300,108,143,1500.2\n",
    "150,97,129,1115.0\n",
    "60,109,153,387.6\n",
    "90,100,127,700.0\n",
    "150,97,127,953.2\n",
    "45,114,146,304.0\n",
    "90,98,125,563.2\n",
    "45,105,134,251.0\n",
    "45,110,141,300.0\n",
    "120,100,130,500.4\n",
    "270,100,131,1729.0\n",
    "30,159,182,319.2\n",
    "45,149,169,344.0\n",
    "30,103,139,151.1\n",
    "120,100,130,500.0\n",
    "45,100,120,225.3\n",
    "30,151,170,300.0\n",
    "45,102,136,234.0\n",
    "120,100,157,1000.1\n",
    "45,129,103,242.0\n",
    "20,83,107,50.3\n",
    "180,101,127,600.1\n",
    "45,107,137,\n",
    "30,90,107,105.3\n",
    "15,80,100,50.5\n",
    "20,150,171,127.4\n",
    "20,151,168,229.4\n",
    "30,95,128,128.2\n",
    "25,152,168,244.2\n",
    "30,109,131,188.2\n",
    "90,93,124,604.1\n",
    "20,95,112,77.7\n",
    "90,90,110,500.0\n",
    "90,90,100,500.0\n",
    "90,90,100,500.4\n",
    "30,92,108,92.7\n",
    "30,93,128,124.0\n",
    "180,90,120,800.3\n",
    "30,90,120,86.2\n",
    "90,90,120,500.3\n",
    "210,137,184,1860.4\n",
    "60,102,124,325.2\n",
    "45,107,124,275.0\n",
    "15,124,139,124.2\n",
    "45,100,120,225.3\n",
    "60,108,131,367.6\n",
    "60,108,151,351.7\n",
    "60,116,141,443.0\n",
    "60,97,122,277.4\n",
    "60,105,125,\n",
    "60,103,124,332.7\n",
    "30,112,137,193.9\n",
    "45,100,120,100.7\n",
    "60,119,169,336.7\n",
    "60,107,127,344.9\n",
    "60,111,151,368.5\n",
    "60,98,122,271.0\n",
    "60,97,124,275.3\n",
    "60,109,127,382.0\n",
    "90,99,125,466.4\n",
    "60,114,151,384.0\n",
    "60,104,134,342.5\n",
    "60,107,138,357.5\n",
    "60,103,133,335.0\n",
    "60,106,132,327.5\n",
    "60,103,136,339.0\n",
    "20,136,156,189.0\n",
    "45,117,143,317.7\n",
    "45,115,137,318.0\n",
    "45,113,138,308.0\n",
    "20,141,162,222.4\n",
    "60,108,135,390.0\n",
    "60,97,127,\n",
    "45,100,120,250.4\n",
    "45,122,149,335.4\n",
    "60,136,170,470.2\n",
    "45,106,126,270.8\n",
    "60,107,136,400.0\n",
    "60,112,146,361.9\n",
    "30,103,127,185.0\n",
    "60,110,150,409.4\n",
    "60,106,134,343.0\n",
    "60,109,129,353.2\n",
    "60,109,138,374.0\n",
    "30,150,167,275.8\n",
    "60,105,128,328.0\n",
    "60,111,151,368.5\n",
    "60,97,131,270.4\n",
    "60,100,120,270.4\n",
    "60,114,150,382.8\n",
    "30,80,120,240.9\n",
    "30,85,120,250.4\n",
    " 45,90,130,260.4\n",
    "45,95,130,270.0\n",
    "45,100,140,280.9\n",
    "60,105,140,290.8\n",
    "60,110,145,300.0\n",
    "60,115,145,310.2\n",
    "75,120,150,320.4\n",
    "75,125,150,330.4\n",
    "\"\"\"\n",
    "\n",
    "# Create DataFrame\n",
    "df = pd.read_csv(StringIO(csv_data))\n",
    "\n",
    "# Show the first few rows\n",
    "print(df.head())\n"
   ]
  },
  {
   "cell_type": "code",
   "execution_count": 29,
   "id": "4db8e43b-3b57-49e1-9138-99839244ef0d",
   "metadata": {},
   "outputs": [
    {
     "name": "stdout",
     "output_type": "stream",
     "text": [
      "         Duration       Pulse    Maxpulse     Calories\n",
      "count  169.000000  169.000000  169.000000   164.000000\n",
      "mean    63.846154  107.461538  134.047337   375.790244\n",
      "std     42.299949   14.510259   16.450434   266.379919\n",
      "min     15.000000   80.000000  100.000000    50.300000\n",
      "25%     45.000000  100.000000  124.000000   250.925000\n",
      "50%     60.000000  105.000000  131.000000   318.600000\n",
      "75%     60.000000  111.000000  141.000000   387.600000\n",
      "max    300.000000  159.000000  184.000000  1860.400000\n"
     ]
    }
   ],
   "source": [
    "# Show basic statistical description\n",
    "print(df.describe())\n"
   ]
  },
  {
   "cell_type": "code",
   "execution_count": 31,
   "id": "2321e6ad-2c27-4932-813c-f137c3703556",
   "metadata": {},
   "outputs": [
    {
     "name": "stdout",
     "output_type": "stream",
     "text": [
      "Duration    0\n",
      "Pulse       0\n",
      "Maxpulse    0\n",
      "Calories    5\n",
      "dtype: int64\n"
     ]
    }
   ],
   "source": [
    "# Check for null values\n",
    "print(df.isnull().sum())\n",
    "\n"
   ]
  },
  {
   "cell_type": "code",
   "execution_count": 33,
   "id": "18865aac-96e8-4689-b9f6-f6a974c0b5c7",
   "metadata": {},
   "outputs": [],
   "source": [
    "# Replace null values with mean\n",
    "df.fillna(df.mean(), inplace=True)\n"
   ]
  },
  {
   "cell_type": "code",
   "execution_count": 35,
   "id": "af33b82a-4827-46f7-bf00-d526c647aa8d",
   "metadata": {},
   "outputs": [
    {
     "name": "stdout",
     "output_type": "stream",
     "text": [
      "          Calories    Duration\n",
      "min      50.300000   15.000000\n",
      "max    1860.400000  300.000000\n",
      "count   169.000000  169.000000\n",
      "mean    375.790244   63.846154\n"
     ]
    }
   ],
   "source": [
    "# Select two columns for aggregation\n",
    "columns_to_aggregate = ['Calories', 'Duration']\n",
    "aggregated_data = df[columns_to_aggregate].agg(['min', 'max', 'count', 'mean'])\n",
    "print(aggregated_data)\n"
   ]
  },
  {
   "cell_type": "code",
   "execution_count": 37,
   "id": "f89f9570-26a3-48c6-a9fc-fbe05da45096",
   "metadata": {},
   "outputs": [
    {
     "name": "stdout",
     "output_type": "stream",
     "text": [
      "     Duration  Pulse  Maxpulse  Calories\n",
      "51         80    123       146     643.1\n",
      "62        160    109       135     853.0\n",
      "65        180     90       130     800.4\n",
      "66        150    105       135     873.4\n",
      "67        150    107       130     816.0\n",
      "72         90    100       127     700.0\n",
      "73        150     97       127     953.2\n",
      "75         90     98       125     563.2\n",
      "78        120    100       130     500.4\n",
      "83        120    100       130     500.0\n",
      "90        180    101       127     600.1\n",
      "99         90     93       124     604.1\n",
      "101        90     90       110     500.0\n",
      "102        90     90       100     500.0\n",
      "103        90     90       100     500.4\n",
      "106       180     90       120     800.3\n",
      "108        90     90       120     500.3\n"
     ]
    }
   ],
   "source": [
    "# Filter rows with calories between 500 and 1000\n",
    "filtered_df = df[(df['Calories'] >= 500) & (df['Calories'] <= 1000)]\n",
    "print(filtered_df)\n"
   ]
  },
  {
   "cell_type": "code",
   "execution_count": 39,
   "id": "49b48893-7c54-4430-aac7-536db55bf54f",
   "metadata": {},
   "outputs": [
    {
     "name": "stdout",
     "output_type": "stream",
     "text": [
      "   Duration  Pulse  Calories\n",
      "0        60    110     409.1\n",
      "1        60    117     479.0\n",
      "2        60    103     340.0\n",
      "3        45    109     282.4\n",
      "4        45    117     406.0\n"
     ]
    }
   ],
   "source": [
    "# Create a new dataframe without the 'Maxpulse' column\n",
    "df_modified = df.drop(columns=['Maxpulse'])\n",
    "print(df_modified.head())\n"
   ]
  },
  {
   "cell_type": "code",
   "execution_count": 41,
   "id": "0ab6671f-f92a-4a41-be6d-e450c5fdb9c2",
   "metadata": {},
   "outputs": [
    {
     "name": "stdout",
     "output_type": "stream",
     "text": [
      "   Duration  Pulse  Calories\n",
      "0        60    110     409.1\n",
      "1        60    117     479.0\n",
      "2        60    103     340.0\n",
      "3        45    109     282.4\n",
      "4        45    117     406.0\n"
     ]
    }
   ],
   "source": [
    "# Delete the 'Maxpulse' column from the main dataframe\n",
    "df.drop(columns=['Maxpulse'], inplace=True)\n",
    "print(df.head())\n"
   ]
  },
  {
   "cell_type": "code",
   "execution_count": 43,
   "id": "c28a4eff-cfae-4388-98ea-a13d2b048600",
   "metadata": {},
   "outputs": [
    {
     "name": "stdout",
     "output_type": "stream",
     "text": [
      "Duration    int64\n",
      "Pulse       int64\n",
      "Calories    int32\n",
      "dtype: object\n"
     ]
    }
   ],
   "source": [
    "# Convert 'Calories' column to int datatype\n",
    "df['Calories'] = df['Calories'].astype(int)\n",
    "print(df.dtypes)\n"
   ]
  },
  {
   "cell_type": "code",
   "execution_count": 45,
   "id": "5487c13e-cb43-427d-9339-7376afa117b3",
   "metadata": {},
   "outputs": [
    {
     "data": {
      "image/png": "[encoded data removed]",
      "text/plain": [
       "<Figure size 640x480 with 1 Axes>"
      ]
     },
     "metadata": {},
     "output_type": "display_data"
    }
   ],
   "source": [
    "import matplotlib.pyplot as plt\n",
    "\n",
    "# Scatter plot of Duration vs Calories\n",
    "df.plot(kind='scatter', x='Duration', y='Calories', alpha=0.5)\n",
    "plt.title('Scatter Plot of Duration vs Calories')\n",
    "plt.xlabel('Duration')\n",
    "plt.ylabel('Calories')\n",
    "plt.show()\n"
   ]
  },
  {
   "cell_type": "code",
   "execution_count": null,
   "id": "e0f2bc9b-602c-430a-9681-11352a1f4636",
   "metadata": {},
   "outputs": [],
   "source": [
    "\n"
   ]
  },
  {
   "cell_type": "code",
   "execution_count": 49,
   "id": "45cc2029-77e0-4413-bd2e-945cb57c3584",
   "metadata": {},
   "outputs": [
    {
     "name": "stdout",
     "output_type": "stream",
     "text": [
      "   YearsExperience   Salary\n",
      "0              1.1  39343.0\n",
      "1              1.3  46205.0\n",
      "2              1.5  37731.0\n",
      "3              2.0  43525.0\n",
      "4              2.2  39891.0\n"
     ]
    }
   ],
   "source": [
    "import pandas as pd\n",
    "from io import StringIO\n",
    "\n",
    "# CSV data as a string\n",
    "csv_data = \"\"\"YearsExperience,Salary\n",
    "1.1,39343.00\n",
    "1.3,46205.00\n",
    "1.5,37731.00\n",
    "2.0,43525.00\n",
    "2.2,39891.00\n",
    "2.9,56642.00\n",
    "3.0,60150.00\n",
    "3.2,54445.00\n",
    "3.2,64445.00\n",
    "3.7,57189.00\n",
    "3.9,63218.00\n",
    "4.0,55794.00\n",
    "4.0,56957.00\n",
    "4.1,57081.00\n",
    "4.5,61111.00\n",
    "4.9,67938.00\n",
    "5.1,66029.00\n",
    "5.3,83088.00\n",
    "5.9,81363.00\n",
    "6.0,93940.00\n",
    "6.8,91738.00\n",
    "7.1,98273.00\n",
    "7.9,101302.00\n",
    "8.2,113812.00\n",
    "8.7,109431.00\n",
    "9.0,105582.00\n",
    "9.5,116969.00\n",
    "9.6,112635.00\n",
    "10.3,122391.00\n",
    "10.5,121872.00\n",
    "\"\"\"\n",
    "\n",
    "# Create DataFrame\n",
    "df = pd.read_csv(StringIO(csv_data))\n",
    "\n",
    "# Show the first few rows\n",
    "print(df.head())\n",
    "\n"
   ]
  },
  {
   "cell_type": "code",
   "execution_count": 51,
   "id": "deaf7a44-0476-48c5-afa8-819416109ab9",
   "metadata": {},
   "outputs": [
    {
     "name": "stdout",
     "output_type": "stream",
     "text": [
      "Training set size: 20\n",
      "Test set size: 10\n"
     ]
    }
   ],
   "source": [
    "from sklearn.model_selection import train_test_split\n",
    "\n",
    "# Split the data into features and target variable\n",
    "X = df[['YearsExperience']]  # Feature\n",
    "y = df['Salary']             # Target\n",
    "\n",
    "# Split the data into training and test sets\n",
    "X_train, X_test, y_train, y_test = train_test_split(X, y, test_size=0.33, random_state=42)\n",
    "\n",
    "# Print the shapes of the resulting datasets\n",
    "print(f\"Training set size: {X_train.shape[0]}\")\n",
    "print(f\"Test set size: {X_test.shape[0]}\")\n"
   ]
  },
  {
   "cell_type": "code",
   "execution_count": 53,
   "id": "d71b9181-ebb6-4bae-8491-941ca3912093",
   "metadata": {},
   "outputs": [
    {
     "name": "stdout",
     "output_type": "stream",
     "text": [
      "First few predictions:\n",
      "[115814.30756236  71511.92534771 102617.85328566  75282.34085534\n",
      "  55487.65944028]\n"
     ]
    }
   ],
   "source": [
    "from sklearn.linear_model import LinearRegression\n",
    "\n",
    "# Create and train the model\n",
    "model = LinearRegression()\n",
    "model.fit(X_train, y_train)\n",
    "\n",
    "# Predict on the test set\n",
    "y_pred = model.predict(X_test)\n",
    "\n",
    "# Print the first few predictions\n",
    "print(\"First few predictions:\")\n",
    "print(y_pred[:5])\n"
   ]
  },
  {
   "cell_type": "code",
   "execution_count": 55,
   "id": "e0b0e84b-f784-44b8-af33-f6128d8265ae",
   "metadata": {},
   "outputs": [
    {
     "name": "stdout",
     "output_type": "stream",
     "text": [
      "Mean Squared Error: 35301898.887134895\n"
     ]
    }
   ],
   "source": [
    "from sklearn.metrics import mean_squared_error\n",
    "\n",
    "# Calculate the mean squared error\n",
    "mse = mean_squared_error(y_test, y_pred)\n",
    "print(f\"Mean Squared Error: {mse}\")\n"
   ]
  },
  {
   "cell_type": "code",
   "execution_count": 57,
   "id": "62283114-75d8-470d-a0e0-435f1691cab9",
   "metadata": {},
   "outputs": [
    {
     "data": {
      "image/png": "[encoded data removed]",
      "text/plain": [
       "<Figure size 640x480 with 1 Axes>"
      ]
     },
     "metadata": {},
     "output_type": "display_data"
    }
   ],
   "source": [
    "import matplotlib.pyplot as plt\n",
    "\n",
    "# Plot training data\n",
    "plt.scatter(X_train, y_train, color='blue', label='Training Data')\n",
    "\n",
    "# Plot test data and predictions\n",
    "plt.scatter(X_test, y_test, color='green', label='Test Data')\n",
    "plt.scatter(X_test, y_pred, color='red', label='Predictions')\n",
    "\n",
    "# Add labels and title\n",
    "plt.xlabel('Years of Experience')\n",
    "plt.ylabel('Salary')\n",
    "plt.title('Scatter Plot of Salary vs. Years of Experience')\n",
    "plt.legend()\n",
    "plt.show()\n"
   ]
  },
  {
   "cell_type": "code",
   "execution_count": 59,
   "id": "234e3e87-d9f0-468a-8863-c6148924aa0a",
   "metadata": {},
   "outputs": [
    {
     "name": "stdout",
     "output_type": "stream",
     "text": [
      "Mean Squared Error: 35301898.887134895\n"
     ]
    },
    {
     "data": {
      "image/png": "[encoded data removed]",
      "text/plain": [
       "<Figure size 640x480 with 1 Axes>"
      ]
     },
     "metadata": {},
     "output_type": "display_data"
    }
   ],
   "source": [
    "import pandas as pd\n",
    "from io import StringIO\n",
    "from sklearn.model_selection import train_test_split\n",
    "from sklearn.linear_model import LinearRegression\n",
    "from sklearn.metrics import mean_squared_error\n",
    "import matplotlib.pyplot as plt\n",
    "\n",
    "# CSV data as a string\n",
    "csv_data = \"\"\"YearsExperience,Salary\n",
    "1.1,39343.00\n",
    "1.3,46205.00\n",
    "1.5,37731.00\n",
    "2.0,43525.00\n",
    "2.2,39891.00\n",
    "2.9,56642.00\n",
    "3.0,60150.00\n",
    "3.2,54445.00\n",
    "3.2,64445.00\n",
    "3.7,57189.00\n",
    "3.9,63218.00\n",
    "4.0,55794.00\n",
    "4.0,56957.00\n",
    "4.1,57081.00\n",
    "4.5,61111.00\n",
    "4.9,67938.00\n",
    "5.1,66029.00\n",
    "5.3,83088.00\n",
    "5.9,81363.00\n",
    "6.0,93940.00\n",
    "6.8,91738.00\n",
    "7.1,98273.00\n",
    "7.9,101302.00\n",
    "8.2,113812.00\n",
    "8.7,109431.00\n",
    "9.0,105582.00\n",
    "9.5,116969.00\n",
    "9.6,112635.00\n",
    "10.3,122391.00\n",
    "10.5,121872.00\n",
    "\"\"\"\n",
    "\n",
    "# Create DataFrame\n",
    "df = pd.read_csv(StringIO(csv_data))\n",
    "\n",
    "# Split the data into features and target variable\n",
    "X = df[['YearsExperience']]\n",
    "y = df['Salary']\n",
    "\n",
    "# Split the data into training and test sets\n",
    "X_train, X_test, y_train, y_test = train_test_split(X, y, test_size=0.33, random_state=42)\n",
    "\n",
    "# Create and train the model\n",
    "model = LinearRegression()\n",
    "model.fit(X_train, y_train)\n",
    "\n",
    "# Predict on the test set\n",
    "y_pred = model.predict(X_test)\n",
    "\n",
    "# Calculate the mean squared error\n",
    "mse = mean_squared_error(y_test, y_pred)\n",
    "print(f\"Mean Squared Error: {mse}\")\n",
    "\n",
    "# Plot training data\n",
    "plt.scatter(X_train, y_train, color='blue', label='Training Data')\n",
    "\n",
    "# Plot test data and predictions\n",
    "plt.scatter(X_test, y_test, color='green', label='Test Data')\n",
    "plt.scatter(X_test, y_pred, color='red', label='Predictions')\n",
    "\n",
    "# Add labels and title\n",
    "plt.xlabel('Years of Experience')\n",
    "plt.ylabel('Salary')\n",
    "plt.title('Scatter Plot of Salary vs. Years of Experience')\n",
    "plt.legend()\n",
    "plt.show()\n"
   ]
  },
  {
   "cell_type": "code",
   "execution_count": null,
   "id": "06abe6bc-37c4-4f06-9c16-9baaa808fa63",
   "metadata": {},
   "outputs": [],
   "source": []
  }
 ],
 "metadata": {
  "kernelspec": {
   "display_name": "Python 3 (ipykernel)",
   "language": "python",
   "name": "python3"
  },
  "language_info": {
   "codemirror_mode": {
    "name": "ipython",
    "version": 3
   },
   "file_extension": ".py",
   "mimetype": "text/x-python",
   "name": "python",
   "nbconvert_exporter": "python",
   "pygments_lexer": "ipython3",
   "version": "3.12.4"
  }
 },
 "nbformat": 4,
 "nbformat_minor": 5
}
